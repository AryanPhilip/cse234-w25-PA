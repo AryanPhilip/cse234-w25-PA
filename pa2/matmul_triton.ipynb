{
  "cells": [
    {
      "cell_type": "code",
      "execution_count": 1,
      "metadata": {
        "id": "E-mNhUjQuxNM"
      },
      "outputs": [],
      "source": [
        "import torch\n",
        "import triton\n",
        "import triton.language as tl\n",
        "import time"
      ]
    },
    {
      "cell_type": "code",
      "execution_count": 2,
      "metadata": {
        "id": "N9lmLw8cuxNN"
      },
      "outputs": [],
      "source": [
        "def is_cuda():\n",
        "    return triton.runtime.driver.active.get_current_target().backend == \"cuda\""
      ]
    },
    {
      "cell_type": "code",
      "execution_count": 3,
      "metadata": {
        "id": "eUMlpjFJuxNO"
      },
      "outputs": [],
      "source": [
        "def is_hip_mi200():\n",
        "    target = triton.runtime.driver.active.get_current_target()\n",
        "    return target.backend == 'hip' and target.arch == 'gfx90a'"
      ]
    },
    {
      "cell_type": "code",
      "execution_count": 72,
      "metadata": {
        "id": "lBNGYaejuxNO"
      },
      "outputs": [],
      "source": [
        "\"\"\"\n",
        "PA2 Part 2: MatMul+Relu+Add Fused Optimization.\n",
        "The kernel uses several optimization techniques:\n",
        "\n",
        "  1. Shared memory tiling.\n",
        "  2. Register tiling.\n",
        "  3. Cooperative fetching.\n",
        "  4. Operator Fusion\n",
        "  5. Write cache / epilogue fusion.\n",
        "\n",
        "Fill in the missing parts (marked with TODO).\n",
        "\"\"\"\n",
        "\n",
        "# -----------------------------------------------------------------------------\n",
        "# Tiling parameters - You will need to change these to achieve better results.\n",
        "# -----------------------------------------------------------------------------\n",
        "BLOCK_M = 128 # Tile size in the M dimension.\n",
        "BLOCK_N = 128 # Tile size in the N dimension.\n",
        "BLOCK_K = 64 # Tile size in the K dimension.\n",
        "\n",
        "\n",
        "# -----------------------------------------------------------------------------\n",
        "# Triton Kernel: Matrix Multiplication + ReLU + Add\n",
        "#\n",
        "# The kernel uses:\n",
        "#   Step 1: Tile assignment (each kernel computes a tile of C)\n",
        "#   Step 2: Shared memory tiling + Cooperative Fetching: Load tiles of A and B.\n",
        "#   Step 3: Register tiling: Use a register accumulator.\n",
        "#   Step 4: Add and ReLU fusion\n",
        "#   Step 5: Write cache/Epilogue: Write the final tile back to global memory.\n",
        "# -----------------------------------------------------------------------------\n",
        "@triton.jit\n",
        "def matmul_add_relu_kernel_fp16(\n",
        "    a_ptr, b_ptr, c_ptr, d_ptr,\n",
        "    M: tl.constexpr, N: tl.constexpr, K: tl.constexpr,\n",
        "    stride_am: tl.constexpr, stride_ak: tl.constexpr,\n",
        "    stride_bk: tl.constexpr, stride_bn: tl.constexpr,\n",
        "    stride_cm: tl.constexpr, stride_cn: tl.constexpr,\n",
        "    stride_dm: tl.constexpr, stride_dn: tl.constexpr,\n",
        "    BLOCK_M: tl.constexpr, BLOCK_N: tl.constexpr, BLOCK_K: tl.constexpr,\n",
        "):\n",
        "    # -------------------------------------------------------------------------\n",
        "    # Step 1: Tile: Assignment\n",
        "    #\n",
        "    # Each kernel instance is mapped to a tile in the output matrix C.\n",
        "    # Compute the starting indices (m_start, n_start) for this tile.\n",
        "    # -------------------------------------------------------------------------\n",
        "    # Compute the tile indices using program_id(0) for M and program_id(1) for N\n",
        "    pid_m = tl.program_id(0)\n",
        "    pid_n = tl.program_id(1)\n",
        "\n",
        "    # Calculate the starting indices for this tile\n",
        "    m_start = pid_m * BLOCK_M\n",
        "    n_start = pid_n * BLOCK_N\n",
        "\n",
        "    # Create offsets for each thread within the block\n",
        "    offs_m = m_start + tl.arange(0, BLOCK_M)\n",
        "    offs_n = n_start + tl.arange(0, BLOCK_N)\n",
        "\n",
        "\n",
        "    mask_m = offs_m < M # to prevent out of boundary errors\n",
        "    mask_n = offs_n < N\n",
        "\n",
        "    # -------------------------------------------------------------------------\n",
        "    # Step 2: Register Tiling\n",
        "    # -------------------------------------------------------------------------\n",
        "    # Initialize the accumulator with zeros\n",
        "    acc = tl.zeros((BLOCK_M, BLOCK_N), dtype=tl.float32)\n",
        "\n",
        "    # -------------------------------------------------------------------------\n",
        "    # Step 3: Shared Memory Tiling & Cooperative Fetching.\n",
        "    # Compute pointers to the sub-tiles of A and B that are needed to compute\n",
        "    # the current C tile. The offsets here serve to load BLOCK_SIZE_M x BLOCK_SIZE_K\n",
        "    # and BLOCK_SIZE_K x BLOCK_SIZE_N blocks from A and B respectively.\n",
        "    # -------------------------------------------------------------------------\n",
        "    for k in range(0, K, BLOCK_K):\n",
        "        # Create offsets and masks for k dimension\n",
        "        offs_k = k + tl.arange(0, BLOCK_K)\n",
        "        mask_k = offs_k < K\n",
        "\n",
        "        # Load blocks from matrices A and B\n",
        "        a_ptrs = a_ptr + (offs_m[:, None] * stride_am + offs_k[None, :] * stride_ak)\n",
        "        b_ptrs = b_ptr + (offs_k[:, None] * stride_bk + offs_n[None, :] * stride_bn)\n",
        "\n",
        "        # Again tl.load has masks because of boundary conditions\n",
        "        a = tl.load(a_ptrs, mask=mask_m[:, None] & mask_k[None, :], other=0.0)\n",
        "        b = tl.load(b_ptrs, mask=mask_k[:, None] & mask_n[None, :], other=0.0)\n",
        "\n",
        "        # Perform matrix multiplication for this block\n",
        "        acc += tl.dot(a, b)\n",
        "\n",
        "    # -------------------------------------------------------------------------\n",
        "    # Step 4: Apply ReLU and Add C to the accumulator\n",
        "    # -------------------------------------------------------------------------\n",
        "    # Load the bias/residual values from matrix C\n",
        "    c_ptrs = c_ptr + (offs_m[:, None] * stride_cm + offs_n[None, :] * stride_cn)\n",
        "    c = tl.load(c_ptrs, mask=mask_m[:, None] & mask_n[None, :], other=0.0)\n",
        "\n",
        "    # Add the bias/residual and apply ReLU\n",
        "    acc = acc + c\n",
        "    acc = tl.maximum(acc, 0.0)  # ReLU activation\n",
        "\n",
        "    # -------------------------------------------------------------------------\n",
        "    # Step 5: Write Cache / Epilogue Fusion: Write the computed tile to D.\n",
        "    # -------------------------------------------------------------------------\n",
        "    # Write the result to matrix D\n",
        "    d_ptrs = d_ptr + (offs_m[:, None] * stride_dm + offs_n[None, :] * stride_dn)\n",
        "    tl.store(d_ptrs, acc, mask=mask_m[:, None] & mask_n[None, :])"
      ]
    },
    {
      "cell_type": "code",
      "execution_count": 73,
      "metadata": {
        "id": "u16sz-IUuxNP"
      },
      "outputs": [],
      "source": [
        "def matmul_add_relu_fp16(a: torch.Tensor, b: torch.Tensor, c: torch.Tensor) -> torch.Tensor:\n",
        "    \"\"\"\n",
        "    Computes Output = ReLU(A @ B + C) using fp16 precision for maximum throughput.\n",
        "    \"\"\"\n",
        "    M, K = a.shape\n",
        "    K2, N = b.shape\n",
        "    assert K == K2, \"Incompatible dimensions\"\n",
        "\n",
        "    d = torch.empty((M, N), device=a.device, dtype=torch.float16)\n",
        "    # Create launch grid\n",
        "    grid = (triton.cdiv(M, BLOCK_M), triton.cdiv(N, BLOCK_N))\n",
        "\n",
        "    matmul_add_relu_kernel_fp16[grid](\n",
        "        a, b, c, d,\n",
        "        M, N, K,\n",
        "        a.stride(0), a.stride(1),\n",
        "        b.stride(0), b.stride(1),\n",
        "        c.stride(0), c.stride(1),\n",
        "        d.stride(0), d.stride(1),\n",
        "        BLOCK_M=BLOCK_M, BLOCK_N=BLOCK_N, BLOCK_K=BLOCK_K\n",
        "    )\n",
        "    return d"
      ]
    },
    {
      "cell_type": "code",
      "execution_count": 74,
      "metadata": {
        "id": "AJ7LlTPawPqB"
      },
      "outputs": [],
      "source": [
        "# Reference implementation using PyTorch\n",
        "def reference_matmul_add_relu(A, B, C):\n",
        "    result = torch.matmul(A, B).add(C).relu_()\n",
        "    return result"
      ]
    },
    {
      "cell_type": "code",
      "execution_count": 75,
      "metadata": {
        "colab": {
          "base_uri": "https://localhost:8080/"
        },
        "id": "B4J5ZBpOuxNP",
        "outputId": "ee4a3dec-e0e3-4573-d20d-8c12cf6ef336"
      },
      "outputs": [
        {
          "output_type": "stream",
          "name": "stdout",
          "text": [
            "triton_output_with_fp16_inputs=tensor([[ 0.0000,  6.1250,  0.0000,  ..., 10.0391,  0.0000,  0.0000],\n",
            "        [ 7.9102, 15.6250, 26.6250,  ..., 11.4531,  5.3945, 18.6562],\n",
            "        [ 2.7285,  0.0000,  0.0000,  ...,  0.0000, 26.1250,  0.0000],\n",
            "        ...,\n",
            "        [ 0.4316, 75.2500,  0.0000,  ..., 26.2812,  0.0000,  0.0000],\n",
            "        [ 6.9609,  1.1260,  0.0000,  ...,  0.0000,  0.0000,  0.0000],\n",
            "        [27.6406, 26.9375, 22.9375,  ..., 13.5625,  6.0352, 21.6406]],\n",
            "       device='cuda:0', dtype=torch.float16)\n",
            "torch_output_with_fp16_inputs=tensor([[ 0.0000,  6.1289,  0.0000,  ..., 10.0391,  0.0000,  0.0000],\n",
            "        [ 7.9102, 15.6328, 26.6250,  ..., 11.4531,  5.3945, 18.6562],\n",
            "        [ 2.7266,  0.0000,  0.0000,  ...,  0.0000, 26.1250,  0.0000],\n",
            "        ...,\n",
            "        [ 0.4316, 75.2500,  0.0000,  ..., 26.2812,  0.0000,  0.0000],\n",
            "        [ 6.9570,  1.1260,  0.0000,  ...,  0.0000,  0.0000,  0.0000],\n",
            "        [27.6406, 26.9531, 22.9375,  ..., 13.5625,  6.0391, 21.6406]],\n",
            "       device='cuda:0', dtype=torch.float16)\n",
            "✅ Triton and Torch match\n"
          ]
        }
      ],
      "source": [
        "# -----------------------------------------------------------------------------\n",
        "# Accuracy Tests\n",
        "# -----------------------------------------------------------------------------\n",
        "if __name__ == \"__main__\":\n",
        "    torch.manual_seed(0)\n",
        "    a = torch.randn((512, 512), device=torch.device(\"cuda\"), dtype=torch.float16)\n",
        "    b = torch.randn((512, 512), device=torch.device(\"cuda\"), dtype=torch.float16)\n",
        "    c = torch.randn((512, 512), device=torch.device(\"cuda\"), dtype=torch.float16)\n",
        "    triton_output = matmul_add_relu_fp16(a, b, c)\n",
        "    torch_output = reference_matmul_add_relu(a, b, c)\n",
        "    print(f\"triton_output_with_fp16_inputs={triton_output}\")\n",
        "    print(f\"torch_output_with_fp16_inputs={torch_output}\")\n",
        "    rtol = 1e-2 if is_hip_mi200() else 0.032\n",
        "    if torch.allclose(triton_output, torch_output, atol=0.15, rtol=rtol):\n",
        "        print(\"✅ Triton and Torch match\")\n",
        "    else:\n",
        "        diff = triton_output - torch_output\n",
        "        abs_diff = torch.abs(diff)\n",
        "        max_abs_diff = torch.max(abs_diff)\n",
        "        print(f\"❌ Triton and Torch differ: {max_abs_diff=}\")"
      ]
    },
    {
      "cell_type": "code",
      "execution_count": 76,
      "metadata": {
        "colab": {
          "base_uri": "https://localhost:8080/"
        },
        "id": "kj_dGOlazQJY",
        "outputId": "aa956010-fec1-43b6-fab0-81ceb579fd8d"
      },
      "outputs": [
        {
          "output_type": "stream",
          "name": "stdout",
          "text": [
            "Triton implementation\n",
            "PyTorch implementation\n",
            "Performance comparison for matrix multiplication (2048x2048 @ 2048x2048):\n",
            "Triton implementation: 0.92 ms\n",
            "PyTorch implementation: 0.98 ms\n",
            "\n",
            "Speedup of Triton vs PyTorch: 1.06x\n"
          ]
        }
      ],
      "source": [
        "# -----------------------------------------------------------------------------\n",
        "# Performance Benchmark\n",
        "# IMPORTANT: DO NOT CHANGE THIS CODE.\n",
        "# THIS IS THE EXACT CODE THAT WILL BE USED TO GRADE YOUR IMPLEMENTATION.\n",
        "# ANY CHANGES TO THIS CODE (INCLUDING DIMENSIONS, REPEATS, etc.)\n",
        "# WILL CAUSE YOU TO HAVE DIFFERENT SPEEDUP RESULTS.\n",
        "# -----------------------------------------------------------------------------\n",
        "M = 2048\n",
        "K = 2048\n",
        "N = 2048\n",
        "\n",
        "# KEEP THESE MATRICES IN FP16. FP32 WILL NOT PROVIDE ACCURATE RESULTS\n",
        "A = torch.randn((M, K), device=\"cuda\", dtype=torch.float16)\n",
        "B = torch.randn((K, N), device=\"cuda\", dtype=torch.float16)\n",
        "C = torch.randn((M, N), device=\"cuda\", dtype=torch.float16)\n",
        "\n",
        "# warmup\n",
        "_ = matmul_add_relu_fp16(A, B, C)\n",
        "_ = reference_matmul_add_relu(A, B, C)\n",
        "\n",
        "REPEATS = 5000\n",
        "\n",
        "# time your implementation\n",
        "print(\"Triton implementation\")\n",
        "torch.cuda.synchronize()\n",
        "start = time.perf_counter()\n",
        "for _ in range(REPEATS):\n",
        "    _ = matmul_add_relu_fp16(A, B, C)\n",
        "torch.cuda.synchronize()\n",
        "triton_time = (time.perf_counter() - start) / REPEATS\n",
        "\n",
        "# time pytorch\n",
        "print(\"PyTorch implementation\")\n",
        "torch.cuda.synchronize()\n",
        "start = time.perf_counter()\n",
        "for _ in range(REPEATS):\n",
        "    _ = reference_matmul_add_relu(A, B, C)\n",
        "torch.cuda.synchronize()\n",
        "torch_time = (time.perf_counter() - start) / REPEATS\n",
        "\n",
        "print(f\"Performance comparison for matrix multiplication ({M}x{K} @ {K}x{N}):\")\n",
        "print(f\"Triton implementation: {triton_time*1000:.2f} ms\")\n",
        "print(f\"PyTorch implementation: {torch_time*1000:.2f} ms\")\n",
        "\n",
        "print(f\"\\nSpeedup of Triton vs PyTorch: {torch_time/triton_time:.2f}x\")"
      ]
    },
    {
      "cell_type": "code",
      "execution_count": 51,
      "metadata": {
        "id": "K9Hdpxic0tq6",
        "outputId": "12f6ecca-bdcb-4b8d-feee-9798d03f63fb",
        "colab": {
          "base_uri": "https://localhost:8080/"
        }
      },
      "outputs": [
        {
          "output_type": "stream",
          "name": "stdout",
          "text": [
            "Running grid search over tiling parameters:\n",
            "Config (64, 64, 16): 1.906 ms per iteration\n",
            "Config (64, 64, 32): 1.654 ms per iteration\n",
            "Config (64, 64, 64): 1.496 ms per iteration\n",
            "Config (64, 128, 16): 1.171 ms per iteration\n",
            "Config (64, 128, 32): 1.191 ms per iteration\n",
            "Config (64, 128, 64): 1.078 ms per iteration\n",
            "Config (128, 64, 16): 1.348 ms per iteration\n",
            "Config (128, 64, 32): 1.269 ms per iteration\n",
            "Config (128, 64, 64): 1.169 ms per iteration\n",
            "Config (128, 128, 16): 0.995 ms per iteration\n",
            "Config (128, 128, 32): 0.817 ms per iteration\n",
            "Config (128, 128, 64): 0.877 ms per iteration\n",
            "Config (128, 256, 16): 2.069 ms per iteration\n",
            "Config (128, 256, 32): 2.131 ms per iteration\n",
            "Config (128, 256, 64): 43.371 ms per iteration\n",
            "Config (256, 128, 16): 1.867 ms per iteration\n",
            "Config (256, 128, 32): 44.440 ms per iteration\n",
            "Config (256, 128, 64): 50.572 ms per iteration\n",
            "Config (256, 256, 16): 41.918 ms per iteration\n",
            "Config (256, 256, 32): 47.524 ms per iteration\n",
            "Config (256, 256, 64): 50.021 ms per iteration\n",
            "Config (64, 256, 16): 1.014 ms per iteration\n",
            "Config (64, 256, 32): 0.971 ms per iteration\n",
            "Config (64, 256, 64): 1.200 ms per iteration\n",
            "\n",
            "Best configuration: (128, 128, 32) with average runtime: 0.817 ms per iteration\n"
          ]
        }
      ],
      "source": [
        "def benchmark_kernel(BLOCK_M, BLOCK_N, BLOCK_K, iters=5000):\n",
        "    #\n",
        "    M, N, K = 2048\n",
        "\n",
        "    # Create input matrices on GPU in fp16\n",
        "    A = torch.randn((M, K), device='cuda', dtype=torch.float16)\n",
        "    B = torch.randn((K, N), device='cuda', dtype=torch.float16)\n",
        "    C = torch.randn((M, N), device='cuda', dtype=torch.float16)\n",
        "    D = torch.empty((M, N), device='cuda', dtype=torch.float16)\n",
        "\n",
        "    grid = (triton.cdiv(M, BLOCK_M), triton.cdiv(N, BLOCK_N))\n",
        "\n",
        "\n",
        "    for _ in range(10):\n",
        "        matmul_add_relu_kernel_fp16[grid](A, B, C, D,\n",
        "                                          M, N, K,\n",
        "                                          A.stride(0), A.stride(1),\n",
        "                                          B.stride(0), B.stride(1),\n",
        "                                          C.stride(0), C.stride(1),\n",
        "                                          D.stride(0), D.stride(1),\n",
        "                                          BLOCK_M, BLOCK_N, BLOCK_K)\n",
        "    torch.cuda.synchronize()\n",
        "\n",
        "\n",
        "    start = torch.cuda.Event(enable_timing=True)\n",
        "    end = torch.cuda.Event(enable_timing=True)\n",
        "    start.record()\n",
        "    for _ in range(iters):\n",
        "        matmul_add_relu_kernel_fp16[grid](A, B, C, D,\n",
        "                                          M, N, K,\n",
        "                                          A.stride(0), A.stride(1),\n",
        "                                          B.stride(0), B.stride(1),\n",
        "                                          C.stride(0), C.stride(1),\n",
        "                                          D.stride(0), D.stride(1),\n",
        "                                          BLOCK_M, BLOCK_N, BLOCK_K)\n",
        "    end.record()\n",
        "    torch.cuda.synchronize()\n",
        "\n",
        "\n",
        "    avg_time_ms = start.elapsed_time(end) / iters\n",
        "    return avg_time_ms\n",
        "\n",
        "\n",
        "configs = [\n",
        "    (64, 64, 16), (64, 64, 32), (64, 64, 64),\n",
        "    (64, 128, 16), (64, 128, 32), (64, 128, 64),\n",
        "    (128, 64, 16), (128, 64, 32), (128, 64, 64),\n",
        "    (128, 128, 16), (128, 128, 32), (128, 128, 64),\n",
        "    (128, 256, 16), (128, 256, 32), (128, 256, 64),\n",
        "    (256, 128, 16), (256, 128, 32), (256, 128, 64),\n",
        "    (256, 256, 16), (256, 256, 32), (256, 256, 64),\n",
        "    (64, 256, 16), (64, 256, 32), (64, 256, 64)\n",
        "]\n",
        "results = {}\n",
        "print(\"Running grid search over tiling parameters:\")\n",
        "for config in configs:\n",
        "    BLOCK_M, BLOCK_N, BLOCK_K = config\n",
        "    time_ms = benchmark_kernel(BLOCK_M, BLOCK_N, BLOCK_K)\n",
        "    results[config] = time_ms\n",
        "    print(f\"Config {config}: {time_ms:.3f} ms per iteration\")\n",
        "\n",
        "best_config = min(results, key=results.get)\n",
        "print(\"\\nBest configuration:\", best_config, \"with average runtime:\",\n",
        "      f\"{results[best_config]:.3f} ms per iteration\")"
      ]
    },
    {
      "cell_type": "code",
      "source": [],
      "metadata": {
        "id": "2ymNym9q_hYC"
      },
      "execution_count": null,
      "outputs": []
    }
  ],
  "metadata": {
    "accelerator": "GPU",
    "colab": {
      "gpuType": "T4",
      "provenance": [],
      "toc_visible": true
    },
    "kernelspec": {
      "display_name": "cse234",
      "language": "python",
      "name": "python3"
    },
    "language_info": {
      "name": "python",
      "version": "3.10.0"
    }
  },
  "nbformat": 4,
  "nbformat_minor": 0
}